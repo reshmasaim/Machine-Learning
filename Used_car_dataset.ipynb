{
 "cells": [
  {
   "cell_type": "markdown",
   "id": "0df64a7e",
   "metadata": {},
   "source": [
    "# Introduction"
   ]
  },
  {
   "cell_type": "markdown",
   "id": "2ca6a227",
   "metadata": {},
   "source": [
    "1.Took Data set from kaggle\n",
    "\n",
    "2.I will be doing Exeploratary Data Analysis using Numpy,pandas,matplotlib and seaborn.\n",
    "\n",
    "3.Will be making prediction models using number of machine learning regression algorithms.\n",
    "\n",
    "4.The objective of the study is to analyse the Car price to conduct various\n",
    " statistical hypothesis tests in order to get meaningful information\n",
    " from it. The 'Linear Regression' statistical algorithm would be used\n",
    " to train the dataset and predict a continuous target variable\n",
    "\n",
    "5.A thorough study of the data will aid in the discovery of valuable\n",
    " insights that will be of enormous value to passengers\n",
    "\n",
    "6.There are 60109 cleaned datapoints and 12 columns in the dataset."
   ]
  },
  {
   "cell_type": "markdown",
   "id": "4c3ca667",
   "metadata": {},
   "source": [
    "Pandas - Used to analyse data. It has function for analysing,cleaning,exploring and manipulating data.\n",
    "\n",
    "Numpy - Mostly work on numerical values for making Arithmatic Operations.\n",
    "\n",
    "Matplotlib - Comprehensive library for creating static,animated and intractive visualization.\n",
    "\n",
    "Seaborn - Seaborn is a python data visualization library based on matplotlib. It provides a high-level interface for drawing intractive and informative statastical graphics.\n",
    "\n",
    "Warnings - warnings are provided to warn the developer of situation that are not necessarily exceptions and ignore them."
   ]
  },
  {
   "cell_type": "code",
   "execution_count": 2,
   "id": "407c5107",
   "metadata": {},
   "outputs": [],
   "source": [
    "import pandas as pd\n",
    "import numpy as np\n",
    "import seaborn as sns\n",
    "import matplotlib.pyplot as plt\n",
    "import warnings \n",
    "warnings.filterwarnings(\"ignore\")"
   ]
  },
  {
   "cell_type": "markdown",
   "id": "2c1312aa",
   "metadata": {},
   "source": [
    "By read_csv() function we are reading the dataset present in \"Used_car_dataset\" file.\n",
    "\n",
    "Took dataset from Kaggle\n",
    "\n",
    "Will be making predictions models using Machine Learning Algorithams."
   ]
  },
  {
   "cell_type": "code",
   "execution_count": 3,
   "id": "270d5ff2",
   "metadata": {
    "scrolled": true
   },
   "outputs": [
    {
     "data": {
      "text/html": [
       "<div>\n",
       "<style scoped>\n",
       "    .dataframe tbody tr th:only-of-type {\n",
       "        vertical-align: middle;\n",
       "    }\n",
       "\n",
       "    .dataframe tbody tr th {\n",
       "        vertical-align: top;\n",
       "    }\n",
       "\n",
       "    .dataframe thead th {\n",
       "        text-align: right;\n",
       "    }\n",
       "</style>\n",
       "<table border=\"1\" class=\"dataframe\">\n",
       "  <thead>\n",
       "    <tr style=\"text-align: right;\">\n",
       "      <th></th>\n",
       "      <th>Unnamed: 0</th>\n",
       "      <th>brand</th>\n",
       "      <th>currency</th>\n",
       "      <th>description</th>\n",
       "      <th>fuel_type</th>\n",
       "      <th>item_condition</th>\n",
       "      <th>manufacturer</th>\n",
       "      <th>mileage_from_odometer</th>\n",
       "      <th>model_date</th>\n",
       "      <th>price</th>\n",
       "      <th>vehicle_engine</th>\n",
       "      <th>vehicle_transmission</th>\n",
       "    </tr>\n",
       "  </thead>\n",
       "  <tbody>\n",
       "    <tr>\n",
       "      <th>0</th>\n",
       "      <td>0</td>\n",
       "      <td>MG</td>\n",
       "      <td>PKR</td>\n",
       "      <td>MG HS 2021 for sale in Lahore</td>\n",
       "      <td>Petrol</td>\n",
       "      <td>used</td>\n",
       "      <td>MG</td>\n",
       "      <td>6,000 km</td>\n",
       "      <td>2021.0</td>\n",
       "      <td>6525000.0</td>\n",
       "      <td>1490cc</td>\n",
       "      <td>Automatic</td>\n",
       "    </tr>\n",
       "    <tr>\n",
       "      <th>1</th>\n",
       "      <td>1</td>\n",
       "      <td>Toyota</td>\n",
       "      <td>PKR</td>\n",
       "      <td>Toyota Aygo 2012 for sale in Islamabad</td>\n",
       "      <td>Petrol</td>\n",
       "      <td>used</td>\n",
       "      <td>Toyota</td>\n",
       "      <td>68,000 km</td>\n",
       "      <td>2012.0</td>\n",
       "      <td>1625000.0</td>\n",
       "      <td>1000cc</td>\n",
       "      <td>Manual</td>\n",
       "    </tr>\n",
       "    <tr>\n",
       "      <th>2</th>\n",
       "      <td>2</td>\n",
       "      <td>Honda</td>\n",
       "      <td>PKR</td>\n",
       "      <td>Honda City 2015 for sale in Lahore</td>\n",
       "      <td>Petrol</td>\n",
       "      <td>used</td>\n",
       "      <td>Honda</td>\n",
       "      <td>150,000 km</td>\n",
       "      <td>2015.0</td>\n",
       "      <td>2550000.0</td>\n",
       "      <td>1300cc</td>\n",
       "      <td>Automatic</td>\n",
       "    </tr>\n",
       "    <tr>\n",
       "      <th>3</th>\n",
       "      <td>3</td>\n",
       "      <td>KIA</td>\n",
       "      <td>PKR</td>\n",
       "      <td>KIA Sorento 2022 for sale in Sialkot</td>\n",
       "      <td>Petrol</td>\n",
       "      <td>used</td>\n",
       "      <td>KIA</td>\n",
       "      <td>18,000 km</td>\n",
       "      <td>2022.0</td>\n",
       "      <td>9000000.0</td>\n",
       "      <td>3500cc</td>\n",
       "      <td>Automatic</td>\n",
       "    </tr>\n",
       "    <tr>\n",
       "      <th>4</th>\n",
       "      <td>4</td>\n",
       "      <td>Toyota</td>\n",
       "      <td>PKR</td>\n",
       "      <td>Toyota Corolla 2015 for sale in Rawalpindi</td>\n",
       "      <td>Petrol</td>\n",
       "      <td>used</td>\n",
       "      <td>Toyota</td>\n",
       "      <td>110,000 km</td>\n",
       "      <td>2015.0</td>\n",
       "      <td>3350000.0</td>\n",
       "      <td>1300cc</td>\n",
       "      <td>Automatic</td>\n",
       "    </tr>\n",
       "  </tbody>\n",
       "</table>\n",
       "</div>"
      ],
      "text/plain": [
       "   Unnamed: 0   brand currency                                 description   \n",
       "0           0      MG      PKR               MG HS 2021 for sale in Lahore  \\\n",
       "1           1  Toyota      PKR      Toyota Aygo 2012 for sale in Islamabad   \n",
       "2           2   Honda      PKR          Honda City 2015 for sale in Lahore   \n",
       "3           3     KIA      PKR        KIA Sorento 2022 for sale in Sialkot   \n",
       "4           4  Toyota      PKR  Toyota Corolla 2015 for sale in Rawalpindi   \n",
       "\n",
       "  fuel_type item_condition manufacturer mileage_from_odometer  model_date   \n",
       "0    Petrol           used           MG              6,000 km      2021.0  \\\n",
       "1    Petrol           used       Toyota             68,000 km      2012.0   \n",
       "2    Petrol           used        Honda            150,000 km      2015.0   \n",
       "3    Petrol           used          KIA             18,000 km      2022.0   \n",
       "4    Petrol           used       Toyota            110,000 km      2015.0   \n",
       "\n",
       "       price vehicle_engine vehicle_transmission  \n",
       "0  6525000.0         1490cc            Automatic  \n",
       "1  1625000.0         1000cc               Manual  \n",
       "2  2550000.0         1300cc            Automatic  \n",
       "3  9000000.0         3500cc            Automatic  \n",
       "4  3350000.0         1300cc            Automatic  "
      ]
     },
     "execution_count": 3,
     "metadata": {},
     "output_type": "execute_result"
    }
   ],
   "source": [
    "df=pd.read_csv(\"used_car_dataset.csv\")\n",
    "df.head()"
   ]
  },
  {
   "cell_type": "markdown",
   "id": "cf818bec",
   "metadata": {},
   "source": [
    "## Performing Exploratory Data Analysis"
   ]
  },
  {
   "cell_type": "markdown",
   "id": "6f84f98b",
   "metadata": {},
   "source": [
    "Find information about Data such as datacount, Dtype by using df.info()"
   ]
  },
  {
   "cell_type": "code",
   "execution_count": 4,
   "id": "4031b687",
   "metadata": {
    "scrolled": true
   },
   "outputs": [
    {
     "name": "stdout",
     "output_type": "stream",
     "text": [
      "<class 'pandas.core.frame.DataFrame'>\n",
      "RangeIndex: 60109 entries, 0 to 60108\n",
      "Data columns (total 12 columns):\n",
      " #   Column                 Non-Null Count  Dtype  \n",
      "---  ------                 --------------  -----  \n",
      " 0   Unnamed: 0             60109 non-null  int64  \n",
      " 1   brand                  60109 non-null  object \n",
      " 2   currency               60109 non-null  object \n",
      " 3   description            60109 non-null  object \n",
      " 4   fuel_type              60109 non-null  object \n",
      " 5   item_condition         60109 non-null  object \n",
      " 6   manufacturer           60109 non-null  object \n",
      " 7   mileage_from_odometer  60109 non-null  object \n",
      " 8   model_date             60109 non-null  float64\n",
      " 9   price                  60109 non-null  float64\n",
      " 10  vehicle_engine         60109 non-null  object \n",
      " 11  vehicle_transmission   60109 non-null  object \n",
      "dtypes: float64(2), int64(1), object(9)\n",
      "memory usage: 5.5+ MB\n"
     ]
    }
   ],
   "source": [
    "df.info()"
   ]
  },
  {
   "cell_type": "markdown",
   "id": "f3159c12",
   "metadata": {},
   "source": [
    "### Drop the unnecessory column from the dataset which is not required for the model prediction."
   ]
  },
  {
   "cell_type": "code",
   "execution_count": 5,
   "id": "ac33b4b1",
   "metadata": {
    "scrolled": false
   },
   "outputs": [
    {
     "name": "stdout",
     "output_type": "stream",
     "text": [
      "<class 'pandas.core.frame.DataFrame'>\n",
      "RangeIndex: 60109 entries, 0 to 60108\n",
      "Data columns (total 9 columns):\n",
      " #   Column                 Non-Null Count  Dtype  \n",
      "---  ------                 --------------  -----  \n",
      " 0   brand                  60109 non-null  object \n",
      " 1   description            60109 non-null  object \n",
      " 2   fuel_type              60109 non-null  object \n",
      " 3   manufacturer           60109 non-null  object \n",
      " 4   mileage_from_odometer  60109 non-null  object \n",
      " 5   model_date             60109 non-null  float64\n",
      " 6   price                  60109 non-null  float64\n",
      " 7   vehicle_engine         60109 non-null  object \n",
      " 8   vehicle_transmission   60109 non-null  object \n",
      "dtypes: float64(2), object(7)\n",
      "memory usage: 4.1+ MB\n"
     ]
    }
   ],
   "source": [
    "df.drop([\"Unnamed: 0\",\"currency\",\"item_condition\"],axis=1,inplace=True)\n",
    "df.info()"
   ]
  },
  {
   "cell_type": "markdown",
   "id": "02f2a02d",
   "metadata": {},
   "source": [
    "### Find null values in dataset through isnull function."
   ]
  },
  {
   "cell_type": "code",
   "execution_count": 6,
   "id": "8770bbe0",
   "metadata": {
    "scrolled": false
   },
   "outputs": [
    {
     "data": {
      "text/plain": [
       "brand                    0\n",
       "description              0\n",
       "fuel_type                0\n",
       "manufacturer             0\n",
       "mileage_from_odometer    0\n",
       "model_date               0\n",
       "price                    0\n",
       "vehicle_engine           0\n",
       "vehicle_transmission     0\n",
       "dtype: int64"
      ]
     },
     "execution_count": 6,
     "metadata": {},
     "output_type": "execute_result"
    }
   ],
   "source": [
    "df.isnull().sum()"
   ]
  },
  {
   "cell_type": "markdown",
   "id": "27bacb76",
   "metadata": {},
   "source": [
    "Our dataset not contain any null value "
   ]
  },
  {
   "cell_type": "code",
   "execution_count": 7,
   "id": "6f27deec",
   "metadata": {},
   "outputs": [
    {
     "data": {
      "text/html": [
       "<div>\n",
       "<style scoped>\n",
       "    .dataframe tbody tr th:only-of-type {\n",
       "        vertical-align: middle;\n",
       "    }\n",
       "\n",
       "    .dataframe tbody tr th {\n",
       "        vertical-align: top;\n",
       "    }\n",
       "\n",
       "    .dataframe thead th {\n",
       "        text-align: right;\n",
       "    }\n",
       "</style>\n",
       "<table border=\"1\" class=\"dataframe\">\n",
       "  <thead>\n",
       "    <tr style=\"text-align: right;\">\n",
       "      <th></th>\n",
       "      <th>model_date</th>\n",
       "      <th>price</th>\n",
       "    </tr>\n",
       "  </thead>\n",
       "  <tbody>\n",
       "    <tr>\n",
       "      <th>count</th>\n",
       "      <td>60109.000000</td>\n",
       "      <td>6.010900e+04</td>\n",
       "    </tr>\n",
       "    <tr>\n",
       "      <th>mean</th>\n",
       "      <td>2011.316425</td>\n",
       "      <td>3.603460e+06</td>\n",
       "    </tr>\n",
       "    <tr>\n",
       "      <th>std</th>\n",
       "      <td>9.459468</td>\n",
       "      <td>5.586388e+06</td>\n",
       "    </tr>\n",
       "    <tr>\n",
       "      <th>min</th>\n",
       "      <td>1942.000000</td>\n",
       "      <td>1.780000e+03</td>\n",
       "    </tr>\n",
       "    <tr>\n",
       "      <th>25%</th>\n",
       "      <td>2006.000000</td>\n",
       "      <td>1.200000e+06</td>\n",
       "    </tr>\n",
       "    <tr>\n",
       "      <th>50%</th>\n",
       "      <td>2013.000000</td>\n",
       "      <td>2.300000e+06</td>\n",
       "    </tr>\n",
       "    <tr>\n",
       "      <th>75%</th>\n",
       "      <td>2019.000000</td>\n",
       "      <td>4.100000e+06</td>\n",
       "    </tr>\n",
       "    <tr>\n",
       "      <th>max</th>\n",
       "      <td>2023.000000</td>\n",
       "      <td>2.100000e+08</td>\n",
       "    </tr>\n",
       "  </tbody>\n",
       "</table>\n",
       "</div>"
      ],
      "text/plain": [
       "         model_date         price\n",
       "count  60109.000000  6.010900e+04\n",
       "mean    2011.316425  3.603460e+06\n",
       "std        9.459468  5.586388e+06\n",
       "min     1942.000000  1.780000e+03\n",
       "25%     2006.000000  1.200000e+06\n",
       "50%     2013.000000  2.300000e+06\n",
       "75%     2019.000000  4.100000e+06\n",
       "max     2023.000000  2.100000e+08"
      ]
     },
     "execution_count": 7,
     "metadata": {},
     "output_type": "execute_result"
    }
   ],
   "source": [
    "df.describe()"
   ]
  },
  {
   "cell_type": "markdown",
   "id": "69f71241",
   "metadata": {},
   "source": [
    "### Create a function to take a values count in the column,having datatype of object."
   ]
  },
  {
   "cell_type": "code",
   "execution_count": 8,
   "id": "e00c2a28",
   "metadata": {
    "scrolled": true
   },
   "outputs": [
    {
     "name": "stdout",
     "output_type": "stream",
     "text": [
      "======================\n",
      "brand\n",
      "======================\n",
      "brand\n",
      "Toyota        19795\n",
      "Suzuki        17709\n",
      "Honda         11443\n",
      "Daihatsu       2370\n",
      "Nissan         1268\n",
      "              ...  \n",
      "Geely             1\n",
      "Ferrari           1\n",
      "Alfa Romeo        1\n",
      "Morris            1\n",
      "Volvo             1\n",
      "Name: count, Length: 71, dtype: int64\n",
      "======================\n",
      "description\n",
      "======================\n",
      "description\n",
      "Toyota Corolla 2022 for sale in Karachi       188\n",
      "Suzuki Alto 2022 for sale in Lahore           162\n",
      "Suzuki Alto 2022 for sale in Karachi          153\n",
      "Honda City 2023 for sale in Lahore            130\n",
      "Toyota Yaris 2021 for sale in Lahore          125\n",
      "                                             ... \n",
      "Suzuki Every 2010 for sale in Lahore            1\n",
      "Suzuki Mehran 2013 for sale in Mansehra         1\n",
      "Hyundai Santro 2009 for sale in Faisalabad      1\n",
      "Suzuki Khyber 2000 for sale in Quetta           1\n",
      "Lexus LX Series 2003 for sale in Lahore         1\n",
      "Name: count, Length: 18347, dtype: int64\n",
      "======================\n",
      "fuel_type\n",
      "======================\n",
      "fuel_type\n",
      "Petrol      53866\n",
      "Diesel       3489\n",
      "Hybrid       2115\n",
      "CNG           523\n",
      "Electric       88\n",
      "Lpg            28\n",
      "Name: count, dtype: int64\n",
      "======================\n",
      "manufacturer\n",
      "======================\n",
      "manufacturer\n",
      "Toyota        19795\n",
      "Suzuki        17709\n",
      "Honda         11443\n",
      "Daihatsu       2370\n",
      "Nissan         1268\n",
      "              ...  \n",
      "Geely             1\n",
      "Ferrari           1\n",
      "Alfa Romeo        1\n",
      "Morris            1\n",
      "Volvo             1\n",
      "Name: count, Length: 71, dtype: int64\n",
      "======================\n",
      "mileage_from_odometer\n",
      "======================\n",
      "mileage_from_odometer\n",
      "100,000 km    2862\n",
      "150,000 km    1613\n",
      "200,000 km    1292\n",
      "1 km          1100\n",
      "65,000 km     1062\n",
      "              ... \n",
      "18,620 km        1\n",
      "108,745 km       1\n",
      "116,500 km       1\n",
      "134,441 km       1\n",
      "80,792 km        1\n",
      "Name: count, Length: 6921, dtype: int64\n",
      "======================\n",
      "vehicle_engine\n",
      "======================\n",
      "vehicle_engine\n",
      "1000cc     11010\n",
      "1300cc     10064\n",
      "1500cc      8009\n",
      "800cc       5813\n",
      "1800cc      5309\n",
      "           ...  \n",
      "14230cc        1\n",
      "887cc          1\n",
      "14999cc        1\n",
      "170cc          1\n",
      "9999cc         1\n",
      "Name: count, Length: 182, dtype: int64\n",
      "======================\n",
      "vehicle_transmission\n",
      "======================\n",
      "vehicle_transmission\n",
      "Automatic    30728\n",
      "Manual       29381\n",
      "Name: count, dtype: int64\n"
     ]
    }
   ],
   "source": [
    "def valuecount(df):\n",
    "    for i in df.select_dtypes(\"object\").columns:\n",
    "        print(\"======================\")\n",
    "        print(i)\n",
    "        print(\"======================\")\n",
    "        print(df[i].value_counts())\n",
    "        \n",
    "valuecount(df)"
   ]
  },
  {
   "cell_type": "markdown",
   "id": "b6d8aaef",
   "metadata": {},
   "source": [
    "### Replace the \",\" & \"km\" from the column (mileage_from_odometer) as its convert the column into string instead of int.\n",
    "here we use lambda function to replace the extra things from the \"mileage_from_odometer\" column."
   ]
  },
  {
   "cell_type": "code",
   "execution_count": 9,
   "id": "1fa7ee4c",
   "metadata": {},
   "outputs": [
    {
     "name": "stdout",
     "output_type": "stream",
     "text": [
      "<class 'pandas.core.frame.DataFrame'>\n",
      "RangeIndex: 60109 entries, 0 to 60108\n",
      "Data columns (total 9 columns):\n",
      " #   Column                 Non-Null Count  Dtype  \n",
      "---  ------                 --------------  -----  \n",
      " 0   brand                  60109 non-null  object \n",
      " 1   description            60109 non-null  object \n",
      " 2   fuel_type              60109 non-null  object \n",
      " 3   manufacturer           60109 non-null  object \n",
      " 4   mileage_from_odometer  60109 non-null  int32  \n",
      " 5   model_date             60109 non-null  float64\n",
      " 6   price                  60109 non-null  float64\n",
      " 7   vehicle_engine         60109 non-null  object \n",
      " 8   vehicle_transmission   60109 non-null  object \n",
      "dtypes: float64(2), int32(1), object(6)\n",
      "memory usage: 3.9+ MB\n"
     ]
    }
   ],
   "source": [
    "df[\"mileage_from_odometer\"]=df[\"mileage_from_odometer\"].apply(lambda x: x.replace(\",\",\"\"))\n",
    "df[\"mileage_from_odometer\"]=df[\"mileage_from_odometer\"].apply(lambda x: x.replace(\" km\",\"\")).astype(int)\n",
    "df[\"mileage_from_odometer\"]\n",
    "df.info()"
   ]
  },
  {
   "cell_type": "code",
   "execution_count": 10,
   "id": "b926682f",
   "metadata": {
    "scrolled": true
   },
   "outputs": [],
   "source": [
    "df[\"model_date\"].astype(int).inplace=True"
   ]
  },
  {
   "cell_type": "markdown",
   "id": "dcd1d02e",
   "metadata": {},
   "source": [
    "### Below Pie chart is show Percentage of Automatic & Manual distribution of vehicle_transmission "
   ]
  },
  {
   "cell_type": "code",
   "execution_count": 11,
   "id": "8394c2d0",
   "metadata": {},
   "outputs": [
    {
     "data": {
      "image/png": "[encoded data removed]",
      "text/plain": [
       "<Figure size 500x500 with 1 Axes>"
      ]
     },
     "metadata": {},
     "output_type": "display_data"
    }
   ],
   "source": [
    "plt.figure(figsize=(5,5))\n",
    "df['vehicle_transmission'].value_counts().plot.pie(autopct=\"%1.1f%%\")\n",
    "plt.title(\"Pie Chart\")\n",
    "plt.show()"
   ]
  },
  {
   "cell_type": "markdown",
   "id": "9be7c360",
   "metadata": {},
   "source": [
    "Above Pie chart shows the out of 100%, 55.2% is manual and 44.8% is automatic."
   ]
  },
  {
   "cell_type": "markdown",
   "id": "0ac88bd5",
   "metadata": {},
   "source": [
    "## TOP 5 Brand Car"
   ]
  },
  {
   "cell_type": "code",
   "execution_count": 12,
   "id": "df6de657",
   "metadata": {},
   "outputs": [
    {
     "data": {
      "text/plain": [
       "brand\n",
       "Toyota      19795\n",
       "Suzuki      17709\n",
       "Honda       11443\n",
       "Daihatsu     2370\n",
       "Nissan       1268\n",
       "Name: count, dtype: int64"
      ]
     },
     "execution_count": 12,
     "metadata": {},
     "output_type": "execute_result"
    }
   ],
   "source": [
    "band=df['brand'].value_counts()\n",
    "sort=band.sort_values(ascending= False).head(5)\n",
    "sort"
   ]
  },
  {
   "cell_type": "markdown",
   "id": "49f166b3",
   "metadata": {},
   "source": [
    "## Count plot"
   ]
  },
  {
   "cell_type": "code",
   "execution_count": 13,
   "id": "4791e0ab",
   "metadata": {},
   "outputs": [
    {
     "data": {
      "text/html": [
       "<div>\n",
       "<style scoped>\n",
       "    .dataframe tbody tr th:only-of-type {\n",
       "        vertical-align: middle;\n",
       "    }\n",
       "\n",
       "    .dataframe tbody tr th {\n",
       "        vertical-align: top;\n",
       "    }\n",
       "\n",
       "    .dataframe thead th {\n",
       "        text-align: right;\n",
       "    }\n",
       "</style>\n",
       "<table border=\"1\" class=\"dataframe\">\n",
       "  <thead>\n",
       "    <tr style=\"text-align: right;\">\n",
       "      <th></th>\n",
       "      <th>brand</th>\n",
       "      <th>description</th>\n",
       "      <th>fuel_type</th>\n",
       "      <th>manufacturer</th>\n",
       "      <th>mileage_from_odometer</th>\n",
       "      <th>model_date</th>\n",
       "      <th>price</th>\n",
       "      <th>vehicle_engine</th>\n",
       "      <th>vehicle_transmission</th>\n",
       "    </tr>\n",
       "  </thead>\n",
       "  <tbody>\n",
       "    <tr>\n",
       "      <th>0</th>\n",
       "      <td>MG</td>\n",
       "      <td>MG HS 2021 for sale in Lahore</td>\n",
       "      <td>Petrol</td>\n",
       "      <td>MG</td>\n",
       "      <td>6000</td>\n",
       "      <td>2021.0</td>\n",
       "      <td>6525000.0</td>\n",
       "      <td>1490cc</td>\n",
       "      <td>Automatic</td>\n",
       "    </tr>\n",
       "    <tr>\n",
       "      <th>1</th>\n",
       "      <td>Toyota</td>\n",
       "      <td>Toyota Aygo 2012 for sale in Islamabad</td>\n",
       "      <td>Petrol</td>\n",
       "      <td>Toyota</td>\n",
       "      <td>68000</td>\n",
       "      <td>2012.0</td>\n",
       "      <td>1625000.0</td>\n",
       "      <td>1000cc</td>\n",
       "      <td>Manual</td>\n",
       "    </tr>\n",
       "    <tr>\n",
       "      <th>2</th>\n",
       "      <td>Honda</td>\n",
       "      <td>Honda City 2015 for sale in Lahore</td>\n",
       "      <td>Petrol</td>\n",
       "      <td>Honda</td>\n",
       "      <td>150000</td>\n",
       "      <td>2015.0</td>\n",
       "      <td>2550000.0</td>\n",
       "      <td>1300cc</td>\n",
       "      <td>Automatic</td>\n",
       "    </tr>\n",
       "    <tr>\n",
       "      <th>3</th>\n",
       "      <td>KIA</td>\n",
       "      <td>KIA Sorento 2022 for sale in Sialkot</td>\n",
       "      <td>Petrol</td>\n",
       "      <td>KIA</td>\n",
       "      <td>18000</td>\n",
       "      <td>2022.0</td>\n",
       "      <td>9000000.0</td>\n",
       "      <td>3500cc</td>\n",
       "      <td>Automatic</td>\n",
       "    </tr>\n",
       "    <tr>\n",
       "      <th>4</th>\n",
       "      <td>Toyota</td>\n",
       "      <td>Toyota Corolla 2015 for sale in Rawalpindi</td>\n",
       "      <td>Petrol</td>\n",
       "      <td>Toyota</td>\n",
       "      <td>110000</td>\n",
       "      <td>2015.0</td>\n",
       "      <td>3350000.0</td>\n",
       "      <td>1300cc</td>\n",
       "      <td>Automatic</td>\n",
       "    </tr>\n",
       "  </tbody>\n",
       "</table>\n",
       "</div>"
      ],
      "text/plain": [
       "    brand                                 description fuel_type manufacturer   \n",
       "0      MG               MG HS 2021 for sale in Lahore    Petrol           MG  \\\n",
       "1  Toyota      Toyota Aygo 2012 for sale in Islamabad    Petrol       Toyota   \n",
       "2   Honda          Honda City 2015 for sale in Lahore    Petrol        Honda   \n",
       "3     KIA        KIA Sorento 2022 for sale in Sialkot    Petrol          KIA   \n",
       "4  Toyota  Toyota Corolla 2015 for sale in Rawalpindi    Petrol       Toyota   \n",
       "\n",
       "   mileage_from_odometer  model_date      price vehicle_engine   \n",
       "0                   6000      2021.0  6525000.0         1490cc  \\\n",
       "1                  68000      2012.0  1625000.0         1000cc   \n",
       "2                 150000      2015.0  2550000.0         1300cc   \n",
       "3                  18000      2022.0  9000000.0         3500cc   \n",
       "4                 110000      2015.0  3350000.0         1300cc   \n",
       "\n",
       "  vehicle_transmission  \n",
       "0            Automatic  \n",
       "1               Manual  \n",
       "2            Automatic  \n",
       "3            Automatic  \n",
       "4            Automatic  "
      ]
     },
     "execution_count": 13,
     "metadata": {},
     "output_type": "execute_result"
    }
   ],
   "source": [
    "df.head(5)"
   ]
  },
  {
   "cell_type": "code",
   "execution_count": 14,
   "id": "cc106eb1",
   "metadata": {},
   "outputs": [
    {
     "data": {
      "image/png": "[encoded data removed]",
      "text/plain": [
       "<Figure size 1200x500 with 1 Axes>"
      ]
     },
     "metadata": {},
     "output_type": "display_data"
    }
   ],
   "source": [
    "plt.figure(figsize=(12,5))\n",
    "sns.countplot(data=df,x='model_date')\n",
    "plt.title(\"Year wise car distribution\")\n",
    "plt.xticks(rotation=90)\n",
    "plt.show()"
   ]
  },
  {
   "cell_type": "markdown",
   "id": "54192308",
   "metadata": {},
   "source": [
    "### Below seaborn bar chart shows the price against brand "
   ]
  },
  {
   "cell_type": "code",
   "execution_count": null,
   "id": "46e504be",
   "metadata": {},
   "outputs": [],
   "source": []
  },
  {
   "cell_type": "markdown",
   "id": "bdfa1d59",
   "metadata": {},
   "source": [
    "### Below seaborn bar chart shows the price against fuel type. "
   ]
  },
  {
   "cell_type": "code",
   "execution_count": 18,
   "id": "44c3f5ec",
   "metadata": {},
   "outputs": [
    {
     "data": {
      "image/png": "[encoded data removed]",
      "text/plain": [
       "<Figure size 640x480 with 1 Axes>"
      ]
     },
     "metadata": {},
     "output_type": "display_data"
    }
   ],
   "source": [
    "sns.barplot(x=df[\"fuel_type\"],y=df[\"price\"])\n",
    "plt.show()"
   ]
  },
  {
   "cell_type": "markdown",
   "id": "0c8e0a21",
   "metadata": {},
   "source": [
    "Comparision : Electric car is expensive than other fule types"
   ]
  },
  {
   "cell_type": "code",
   "execution_count": null,
   "id": "29e814a2",
   "metadata": {},
   "outputs": [],
   "source": []
  },
  {
   "cell_type": "markdown",
   "id": "6fd7fb97",
   "metadata": {},
   "source": [
    "###### Ploting the Boxplot or Whisker plot to find the outliers in the dataset\n",
    "\n",
    "The whiskers are the two lines that run from the minimum to the lower quartile (the box's beginning) and then from the higher quartile (the box's end) to the maximum\n",
    "\n",
    "\n",
    "1.Minimum Value\n",
    "\n",
    "2.Lower Quartile\n",
    "\n",
    "3.Median\n",
    "\n",
    "4.Upper Quartile\n",
    "\n",
    "5.Maximum Value"
   ]
  },
  {
   "cell_type": "code",
   "execution_count": 19,
   "id": "2774786a",
   "metadata": {
    "scrolled": true
   },
   "outputs": [
    {
     "data": {
      "text/plain": [
       "<Axes: xlabel='price'>"
      ]
     },
     "execution_count": 19,
     "metadata": {},
     "output_type": "execute_result"
    },
    {
     "data": {
      "image/png": "[encoded data removed]",
      "text/plain": [
       "<Figure size 640x480 with 1 Axes>"
      ]
     },
     "metadata": {},
     "output_type": "display_data"
    }
   ],
   "source": [
    "sns.boxplot(data=df,x=\"price\")"
   ]
  },
  {
   "cell_type": "markdown",
   "id": "b36d1d6b",
   "metadata": {},
   "source": [
    "Min:1780\n",
    "\n",
    "Max:210000000\n",
    "\n",
    "1st Quartile:1200000\n",
    "\n",
    "Median:2300000\n",
    "\n",
    "3rd Quartile:4100000\n",
    "\n",
    "IQR=3rd Quartile-1st Quartile\n",
    "IQR:2900000\n",
    "\n",
    "UL:8450000\n",
    "\n",
    "LL:-3150000\n",
    "\n",
    "Above is the calculation to find the upper limit value and lower limit value based on that we remove the outliers from the dataset."
   ]
  },
  {
   "cell_type": "code",
   "execution_count": 20,
   "id": "d889a1ec",
   "metadata": {},
   "outputs": [
    {
     "data": {
      "text/plain": [
       "<Axes: xlabel='price'>"
      ]
     },
     "execution_count": 20,
     "metadata": {},
     "output_type": "execute_result"
    },
    {
     "data": {
      "image/png": "[encoded data removed]",
      "text/plain": [
       "<Figure size 640x480 with 1 Axes>"
      ]
     },
     "metadata": {},
     "output_type": "display_data"
    }
   ],
   "source": [
    "\n",
    "df=df[df[\"price\"]<8450000]\n",
    "sns.boxplot(data=df,x=\"price\")\n"
   ]
  },
  {
   "cell_type": "markdown",
   "id": "06f6d197",
   "metadata": {},
   "source": [
    "after using the upper limit value to remove the outliers there are still ourliers are exist in our dataset.\n",
    "so remove this outliers through increasing the upperlimit values"
   ]
  },
  {
   "cell_type": "code",
   "execution_count": 21,
   "id": "edc8061c",
   "metadata": {},
   "outputs": [
    {
     "data": {
      "text/plain": [
       "<Axes: xlabel='price'>"
      ]
     },
     "execution_count": 21,
     "metadata": {},
     "output_type": "execute_result"
    },
    {
     "data": {
      "image/png": "[encoded data removed]",
      "text/plain": [
       "<Figure size 640x480 with 1 Axes>"
      ]
     },
     "metadata": {},
     "output_type": "display_data"
    }
   ],
   "source": [
    "df=df[df[\"price\"]<6600000]\n",
    "sns.boxplot(data=df,x=\"price\")"
   ]
  },
  {
   "cell_type": "code",
   "execution_count": 22,
   "id": "80504442",
   "metadata": {},
   "outputs": [
    {
     "data": {
      "text/html": [
       "<div>\n",
       "<style scoped>\n",
       "    .dataframe tbody tr th:only-of-type {\n",
       "        vertical-align: middle;\n",
       "    }\n",
       "\n",
       "    .dataframe tbody tr th {\n",
       "        vertical-align: top;\n",
       "    }\n",
       "\n",
       "    .dataframe thead th {\n",
       "        text-align: right;\n",
       "    }\n",
       "</style>\n",
       "<table border=\"1\" class=\"dataframe\">\n",
       "  <thead>\n",
       "    <tr style=\"text-align: right;\">\n",
       "      <th></th>\n",
       "      <th>brand</th>\n",
       "      <th>description</th>\n",
       "      <th>fuel_type</th>\n",
       "      <th>manufacturer</th>\n",
       "      <th>mileage_from_odometer</th>\n",
       "      <th>model_date</th>\n",
       "      <th>price</th>\n",
       "      <th>vehicle_engine</th>\n",
       "      <th>vehicle_transmission</th>\n",
       "    </tr>\n",
       "  </thead>\n",
       "  <tbody>\n",
       "    <tr>\n",
       "      <th>0</th>\n",
       "      <td>MG</td>\n",
       "      <td>MG HS 2021 for sale in Lahore</td>\n",
       "      <td>Petrol</td>\n",
       "      <td>MG</td>\n",
       "      <td>6000</td>\n",
       "      <td>2021.0</td>\n",
       "      <td>6525000.0</td>\n",
       "      <td>1490cc</td>\n",
       "      <td>Automatic</td>\n",
       "    </tr>\n",
       "    <tr>\n",
       "      <th>1</th>\n",
       "      <td>Toyota</td>\n",
       "      <td>Toyota Aygo 2012 for sale in Islamabad</td>\n",
       "      <td>Petrol</td>\n",
       "      <td>Toyota</td>\n",
       "      <td>68000</td>\n",
       "      <td>2012.0</td>\n",
       "      <td>1625000.0</td>\n",
       "      <td>1000cc</td>\n",
       "      <td>Manual</td>\n",
       "    </tr>\n",
       "    <tr>\n",
       "      <th>2</th>\n",
       "      <td>Honda</td>\n",
       "      <td>Honda City 2015 for sale in Lahore</td>\n",
       "      <td>Petrol</td>\n",
       "      <td>Honda</td>\n",
       "      <td>150000</td>\n",
       "      <td>2015.0</td>\n",
       "      <td>2550000.0</td>\n",
       "      <td>1300cc</td>\n",
       "      <td>Automatic</td>\n",
       "    </tr>\n",
       "    <tr>\n",
       "      <th>4</th>\n",
       "      <td>Toyota</td>\n",
       "      <td>Toyota Corolla 2015 for sale in Rawalpindi</td>\n",
       "      <td>Petrol</td>\n",
       "      <td>Toyota</td>\n",
       "      <td>110000</td>\n",
       "      <td>2015.0</td>\n",
       "      <td>3350000.0</td>\n",
       "      <td>1300cc</td>\n",
       "      <td>Automatic</td>\n",
       "    </tr>\n",
       "    <tr>\n",
       "      <th>5</th>\n",
       "      <td>Nissan</td>\n",
       "      <td>Nissan March 2004 for sale in Karachi</td>\n",
       "      <td>Petrol</td>\n",
       "      <td>Nissan</td>\n",
       "      <td>100000</td>\n",
       "      <td>2004.0</td>\n",
       "      <td>1050000.0</td>\n",
       "      <td>1000cc</td>\n",
       "      <td>Automatic</td>\n",
       "    </tr>\n",
       "    <tr>\n",
       "      <th>...</th>\n",
       "      <td>...</td>\n",
       "      <td>...</td>\n",
       "      <td>...</td>\n",
       "      <td>...</td>\n",
       "      <td>...</td>\n",
       "      <td>...</td>\n",
       "      <td>...</td>\n",
       "      <td>...</td>\n",
       "      <td>...</td>\n",
       "    </tr>\n",
       "    <tr>\n",
       "      <th>60099</th>\n",
       "      <td>KIA</td>\n",
       "      <td>KIA Picanto 2023 for sale in Karachi</td>\n",
       "      <td>Petrol</td>\n",
       "      <td>KIA</td>\n",
       "      <td>28</td>\n",
       "      <td>2023.0</td>\n",
       "      <td>3430000.0</td>\n",
       "      <td>1000cc</td>\n",
       "      <td>Automatic</td>\n",
       "    </tr>\n",
       "    <tr>\n",
       "      <th>60105</th>\n",
       "      <td>KIA</td>\n",
       "      <td>KIA Picanto 2022 for sale in Lahore</td>\n",
       "      <td>Petrol</td>\n",
       "      <td>KIA</td>\n",
       "      <td>10</td>\n",
       "      <td>2022.0</td>\n",
       "      <td>3350000.0</td>\n",
       "      <td>1000cc</td>\n",
       "      <td>Automatic</td>\n",
       "    </tr>\n",
       "    <tr>\n",
       "      <th>60106</th>\n",
       "      <td>Suzuki</td>\n",
       "      <td>Suzuki Swift 2022 for sale in Lahore</td>\n",
       "      <td>Petrol</td>\n",
       "      <td>Suzuki</td>\n",
       "      <td>10</td>\n",
       "      <td>2022.0</td>\n",
       "      <td>4750000.0</td>\n",
       "      <td>1200cc</td>\n",
       "      <td>Automatic</td>\n",
       "    </tr>\n",
       "    <tr>\n",
       "      <th>60107</th>\n",
       "      <td>Suzuki</td>\n",
       "      <td>Suzuki Wagon R 2018 for sale in Rawalpindi</td>\n",
       "      <td>Hybrid</td>\n",
       "      <td>Suzuki</td>\n",
       "      <td>15000</td>\n",
       "      <td>2018.0</td>\n",
       "      <td>3175000.0</td>\n",
       "      <td>660cc</td>\n",
       "      <td>Automatic</td>\n",
       "    </tr>\n",
       "    <tr>\n",
       "      <th>60108</th>\n",
       "      <td>Toyota</td>\n",
       "      <td>Toyota Hilux 2009 for sale in Islamabad</td>\n",
       "      <td>Petrol</td>\n",
       "      <td>Toyota</td>\n",
       "      <td>169000</td>\n",
       "      <td>2009.0</td>\n",
       "      <td>5500000.0</td>\n",
       "      <td>3000cc</td>\n",
       "      <td>Automatic</td>\n",
       "    </tr>\n",
       "  </tbody>\n",
       "</table>\n",
       "<p>53130 rows × 9 columns</p>\n",
       "</div>"
      ],
      "text/plain": [
       "        brand                                 description fuel_type   \n",
       "0          MG               MG HS 2021 for sale in Lahore    Petrol  \\\n",
       "1      Toyota      Toyota Aygo 2012 for sale in Islamabad    Petrol   \n",
       "2       Honda          Honda City 2015 for sale in Lahore    Petrol   \n",
       "4      Toyota  Toyota Corolla 2015 for sale in Rawalpindi    Petrol   \n",
       "5      Nissan       Nissan March 2004 for sale in Karachi    Petrol   \n",
       "...       ...                                         ...       ...   \n",
       "60099     KIA        KIA Picanto 2023 for sale in Karachi    Petrol   \n",
       "60105     KIA         KIA Picanto 2022 for sale in Lahore    Petrol   \n",
       "60106  Suzuki        Suzuki Swift 2022 for sale in Lahore    Petrol   \n",
       "60107  Suzuki  Suzuki Wagon R 2018 for sale in Rawalpindi    Hybrid   \n",
       "60108  Toyota     Toyota Hilux 2009 for sale in Islamabad    Petrol   \n",
       "\n",
       "      manufacturer  mileage_from_odometer  model_date      price   \n",
       "0               MG                   6000      2021.0  6525000.0  \\\n",
       "1           Toyota                  68000      2012.0  1625000.0   \n",
       "2            Honda                 150000      2015.0  2550000.0   \n",
       "4           Toyota                 110000      2015.0  3350000.0   \n",
       "5           Nissan                 100000      2004.0  1050000.0   \n",
       "...            ...                    ...         ...        ...   \n",
       "60099          KIA                     28      2023.0  3430000.0   \n",
       "60105          KIA                     10      2022.0  3350000.0   \n",
       "60106       Suzuki                     10      2022.0  4750000.0   \n",
       "60107       Suzuki                  15000      2018.0  3175000.0   \n",
       "60108       Toyota                 169000      2009.0  5500000.0   \n",
       "\n",
       "      vehicle_engine vehicle_transmission  \n",
       "0             1490cc            Automatic  \n",
       "1             1000cc               Manual  \n",
       "2             1300cc            Automatic  \n",
       "4             1300cc            Automatic  \n",
       "5             1000cc            Automatic  \n",
       "...              ...                  ...  \n",
       "60099         1000cc            Automatic  \n",
       "60105         1000cc            Automatic  \n",
       "60106         1200cc            Automatic  \n",
       "60107          660cc            Automatic  \n",
       "60108         3000cc            Automatic  \n",
       "\n",
       "[53130 rows x 9 columns]"
      ]
     },
     "execution_count": 22,
     "metadata": {},
     "output_type": "execute_result"
    }
   ],
   "source": [
    "df"
   ]
  },
  {
   "cell_type": "code",
   "execution_count": null,
   "id": "c9b102ff",
   "metadata": {
    "scrolled": true
   },
   "outputs": [],
   "source": []
  },
  {
   "cell_type": "markdown",
   "id": "8e153aac",
   "metadata": {},
   "source": [
    "### seperate the target and features columns.\n",
    " x is features column\n",
    "\n",
    "y is target column"
   ]
  },
  {
   "cell_type": "code",
   "execution_count": 23,
   "id": "ef60beed",
   "metadata": {},
   "outputs": [],
   "source": [
    "x=df.drop([\"price\"],axis=1)\n",
    "y=df[\"price\"]"
   ]
  },
  {
   "cell_type": "markdown",
   "id": "e6fcaedc",
   "metadata": {},
   "source": [
    "### Here we use ordinal encoder \n",
    "### Ordinal encoder is work on multiple column"
   ]
  },
  {
   "cell_type": "code",
   "execution_count": 24,
   "id": "b2a38f92",
   "metadata": {},
   "outputs": [],
   "source": [
    "from sklearn.model_selection import train_test_split\n",
    "from sklearn.preprocessing import OrdinalEncoder,StandardScaler\n",
    "from sklearn.compose import ColumnTransformer"
   ]
  },
  {
   "cell_type": "markdown",
   "id": "d5553ced",
   "metadata": {},
   "source": [
    "Columntransformer is used to perform the operations on multiple columns.\n",
    "\n",
    "Remainder set as Passthrough: use to untransformed the columns which dtype is not object"
   ]
  },
  {
   "cell_type": "code",
   "execution_count": 25,
   "id": "adf6dcdb",
   "metadata": {},
   "outputs": [],
   "source": [
    "ct=ColumnTransformer(transformers=[\n",
    "    (\"encoding\",OrdinalEncoder(),list(x.select_dtypes(\"object\").columns))\n",
    "],remainder=\"passthrough\")\n",
    "x=ct.fit_transform(x)"
   ]
  },
  {
   "cell_type": "code",
   "execution_count": 26,
   "id": "2bca521d",
   "metadata": {},
   "outputs": [
    {
     "data": {
      "text/plain": [
       "array([[3.6000e+01, 4.7000e+03, 5.0000e+00, ..., 0.0000e+00, 6.0000e+03,\n",
       "        2.0210e+03],\n",
       "       [5.8000e+01, 1.2050e+04, 5.0000e+00, ..., 1.0000e+00, 6.8000e+04,\n",
       "        2.0120e+03],\n",
       "       [2.5000e+01, 2.3190e+03, 5.0000e+00, ..., 0.0000e+00, 1.5000e+05,\n",
       "        2.0150e+03],\n",
       "       ...,\n",
       "       [5.7000e+01, 1.1458e+04, 5.0000e+00, ..., 0.0000e+00, 1.0000e+01,\n",
       "        2.0220e+03],\n",
       "       [5.7000e+01, 1.1701e+04, 3.0000e+00, ..., 0.0000e+00, 1.5000e+04,\n",
       "        2.0180e+03],\n",
       "       [5.8000e+01, 1.4759e+04, 5.0000e+00, ..., 0.0000e+00, 1.6900e+05,\n",
       "        2.0090e+03]])"
      ]
     },
     "execution_count": 26,
     "metadata": {},
     "output_type": "execute_result"
    }
   ],
   "source": [
    "x"
   ]
  },
  {
   "cell_type": "code",
   "execution_count": 27,
   "id": "32c489d1",
   "metadata": {},
   "outputs": [],
   "source": [
    "xtrain,xtest,ytrain,ytest=train_test_split(x,y,test_size=0.3,random_state=45)"
   ]
  },
  {
   "cell_type": "code",
   "execution_count": 28,
   "id": "8ecb86af",
   "metadata": {},
   "outputs": [
    {
     "name": "stdout",
     "output_type": "stream",
     "text": [
      "0.6582836788672666\n"
     ]
    }
   ],
   "source": [
    "from sklearn.linear_model import LinearRegression\n",
    "lr=LinearRegression()\n",
    "lr.fit(xtrain,ytrain)\n",
    "ypred=lr.predict(xtest)\n",
    "print(lr.score(xtrain,ytrain))"
   ]
  },
  {
   "cell_type": "markdown",
   "id": "f29feb00",
   "metadata": {},
   "source": [
    "### We use polynominal features to find best fit line of nonlinear data, create many forms to increase there degree."
   ]
  },
  {
   "cell_type": "code",
   "execution_count": 29,
   "id": "3c202d65",
   "metadata": {},
   "outputs": [],
   "source": [
    "# xtrain=ct.fit_transform(xtrain)\n",
    "# xtest=ct.fit_transform(xtest)\n",
    "from sklearn.preprocessing import PolynomialFeatures\n",
    "poly=PolynomialFeatures()\n",
    "xtrain=poly.fit_transform(xtrain)\n",
    "xtest=poly.fit_transform(xtest)"
   ]
  },
  {
   "cell_type": "code",
   "execution_count": 30,
   "id": "9075e383",
   "metadata": {},
   "outputs": [
    {
     "data": {
      "text/plain": [
       "0.8235412545501593"
      ]
     },
     "execution_count": 30,
     "metadata": {},
     "output_type": "execute_result"
    }
   ],
   "source": [
    "from sklearn.linear_model import LinearRegression\n",
    "from sklearn.metrics import r2_score,accuracy_score\n",
    "lr=LinearRegression()\n",
    "lr.fit(xtrain,ytrain)\n",
    "ypred=lr.predict(xtest)\n",
    "r2_score(ytest,ypred)"
   ]
  },
  {
   "cell_type": "code",
   "execution_count": 33,
   "id": "844c7a6d",
   "metadata": {},
   "outputs": [],
   "source": [
    "param_grid = {\n",
    "    'max_depth': [None,5,8,9, 10, 20, 30,],\n",
    "    'min_samples_split': [2, 5, 10,15,20],\n",
    "    'min_samples_leaf': [1, 2, 4],\n",
    "    'max_features': [None, 'sqrt', 'log2']\n",
    "}"
   ]
  },
  {
   "cell_type": "code",
   "execution_count": 34,
   "id": "5c4b2d3b",
   "metadata": {},
   "outputs": [
    {
     "name": "stdout",
     "output_type": "stream",
     "text": [
      "{'max_depth': 20, 'max_features': None, 'min_samples_leaf': 4, 'min_samples_split': 20}\n",
      "0.936045428890816\n"
     ]
    },
    {
     "data": {
      "text/plain": [
       "0.9683951348092138"
      ]
     },
     "execution_count": 34,
     "metadata": {},
     "output_type": "execute_result"
    }
   ],
   "source": [
    "from sklearn.model_selection import GridSearchCV\n",
    "from sklearn.tree import DecisionTreeRegressor\n",
    "dt = DecisionTreeRegressor()\n",
    "grid_search = GridSearchCV(dt, param_grid, cv=5)\n",
    "grid_search.fit(xtrain, ytrain)\n",
    "best_params = grid_search.best_params_\n",
    "best_model = grid_search.best_estimator_\n",
    "print(grid_search.best_params_)\n",
    "print(grid_search.best_score_)\n",
    "grid_search.score(xtrain,ytrain)"
   ]
  },
  {
   "cell_type": "code",
   "execution_count": 35,
   "id": "38f30905",
   "metadata": {},
   "outputs": [],
   "source": [
    "#SVR\n",
    "from sklearn.svm import SVR "
   ]
  },
  {
   "cell_type": "code",
   "execution_count": null,
   "id": "c5e54215",
   "metadata": {},
   "outputs": [],
   "source": []
  }
 ],
 "metadata": {
  "kernelspec": {
   "display_name": "Python 3 (ipykernel)",
   "language": "python",
   "name": "python3"
  },
  "language_info": {
   "codemirror_mode": {
    "name": "ipython",
    "version": 3
   },
   "file_extension": ".py",
   "mimetype": "text/x-python",
   "name": "python",
   "nbconvert_exporter": "python",
   "pygments_lexer": "ipython3",
   "version": "3.10.0"
  }
 },
 "nbformat": 4,
 "nbformat_minor": 5
}
